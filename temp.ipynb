{
 "cells": [
  {
   "cell_type": "code",
   "execution_count": 1,
   "metadata": {},
   "outputs": [
    {
     "ename": "Exception",
     "evalue": "[XPI] Stock petr1 not found.",
     "output_type": "error",
     "traceback": [
      "\u001b[0;31m---------------------------------------------------------------------------\u001b[0m",
      "\u001b[0;31mRequestException\u001b[0m                          Traceback (most recent call last)",
      "File \u001b[0;32m~/Projects/brdata/brdata/crawlers/xpi.py:63\u001b[0m, in \u001b[0;36mXPICrawler.get_analysis\u001b[0;34m(self, code, to_pandas, enable_cache, **kwargs)\u001b[0m\n\u001b[1;32m     62\u001b[0m \u001b[39mtry\u001b[39;00m:\n\u001b[0;32m---> 63\u001b[0m     page \u001b[39m=\u001b[39m \u001b[39msuper\u001b[39;49m()\u001b[39m.\u001b[39;49mget_page_soup(\n\u001b[1;32m     64\u001b[0m         path\u001b[39m=\u001b[39;49m\u001b[39mf\u001b[39;49m\u001b[39m\"\u001b[39;49m\u001b[39m/acoes/\u001b[39;49m\u001b[39m{\u001b[39;49;00mcode\u001b[39m.\u001b[39;49mlower()\u001b[39m}\u001b[39;49;00m\u001b[39m\"\u001b[39;49m, enable_cache\u001b[39m=\u001b[39;49menable_cache, \u001b[39m*\u001b[39;49m\u001b[39m*\u001b[39;49mkwargs\n\u001b[1;32m     65\u001b[0m     )\n\u001b[1;32m     66\u001b[0m \u001b[39mexcept\u001b[39;00m exceptions\u001b[39m.\u001b[39mRequestException \u001b[39mas\u001b[39;00m e:\n",
      "File \u001b[0;32m~/Projects/brdata/brdata/core/crawler.py:32\u001b[0m, in \u001b[0;36mCrawler.get_page_soup\u001b[0;34m(self, url, enable_cache, **kwargs)\u001b[0m\n\u001b[1;32m     28\u001b[0m \u001b[39mdef\u001b[39;00m \u001b[39mget_page_soup\u001b[39m(\n\u001b[1;32m     29\u001b[0m     \u001b[39mself\u001b[39m, url: \u001b[39mstr\u001b[39m \u001b[39m=\u001b[39m \u001b[39mNone\u001b[39;00m, enable_cache: \u001b[39mbool\u001b[39m \u001b[39m=\u001b[39m \u001b[39mTrue\u001b[39;00m, \u001b[39m*\u001b[39m\u001b[39m*\u001b[39mkwargs\n\u001b[1;32m     30\u001b[0m ) \u001b[39m-\u001b[39m\u001b[39m>\u001b[39m bs4\u001b[39m.\u001b[39mBeautifulSoup:\n\u001b[1;32m     31\u001b[0m     \u001b[39mreturn\u001b[39;00m bs4\u001b[39m.\u001b[39mBeautifulSoup(\n\u001b[0;32m---> 32\u001b[0m         \u001b[39mself\u001b[39;49m\u001b[39m.\u001b[39;49mget_page(url, enable_cache\u001b[39m=\u001b[39;49menable_cache, \u001b[39m*\u001b[39;49m\u001b[39m*\u001b[39;49mkwargs), \u001b[39m\"\u001b[39m\u001b[39mhtml.parser\u001b[39m\u001b[39m\"\u001b[39m\n\u001b[1;32m     33\u001b[0m     )\n",
      "File \u001b[0;32m~/Projects/brdata/brdata/core/crawler.py:26\u001b[0m, in \u001b[0;36mCrawler.get_page\u001b[0;34m(self, url, path, **kwargs)\u001b[0m\n\u001b[1;32m     24\u001b[0m     full_url \u001b[39m=\u001b[39m \u001b[39mself\u001b[39m\u001b[39m.\u001b[39mjoin_url(base_url, path)\n\u001b[0;32m---> 26\u001b[0m \u001b[39mreturn\u001b[39;00m get_response(full_url, \u001b[39m*\u001b[39;49m\u001b[39m*\u001b[39;49mkwargs)\u001b[39m.\u001b[39mtext\n",
      "File \u001b[0;32m~/Library/Caches/pypoetry/virtualenvs/brasil-data-UugFb3W5-py3.11/lib/python3.11/site-packages/cache_decorator/cache.py:615\u001b[0m, in \u001b[0;36mCache._decorate_function.<locals>.wrapped\u001b[0;34m(*args, **kwargs)\u001b[0m\n\u001b[1;32m    614\u001b[0m start_time \u001b[39m=\u001b[39m time()\n\u001b[0;32m--> 615\u001b[0m result \u001b[39m=\u001b[39m function(\u001b[39m*\u001b[39;49margs, \u001b[39m*\u001b[39;49m\u001b[39m*\u001b[39;49mkwargs)\n\u001b[1;32m    616\u001b[0m end_time \u001b[39m=\u001b[39m time()\n",
      "File \u001b[0;32m~/Projects/brdata/brdata/core/req.py:44\u001b[0m, in \u001b[0;36mget_response\u001b[0;34m(url, max_retries, timeout, verify)\u001b[0m\n\u001b[1;32m     42\u001b[0m             \u001b[39mbreak\u001b[39;00m\n\u001b[0;32m---> 44\u001b[0m \u001b[39mraise\u001b[39;00m exceptions\u001b[39m.\u001b[39mRequestException(\u001b[39mf\u001b[39m\u001b[39m\"\u001b[39m\u001b[39mMaximum number of attempts exceeded for \u001b[39m\u001b[39m{\u001b[39;00murl\u001b[39m}\u001b[39;00m\u001b[39m\"\u001b[39m)\n",
      "\u001b[0;31mRequestException\u001b[0m: Maximum number of attempts exceeded for https://conteudos.xpi.com.br///acoes/petr1",
      "\nThe above exception was the direct cause of the following exception:\n",
      "\u001b[0;31mException\u001b[0m                                 Traceback (most recent call last)",
      "\u001b[1;32m/Users/gabriel.guarisa/Projects/brdata/temp.ipynb Cell 1\u001b[0m line \u001b[0;36m4\n\u001b[1;32m      <a href='vscode-notebook-cell:/Users/gabriel.guarisa/Projects/brdata/temp.ipynb#W0sZmlsZQ%3D%3D?line=0'>1</a>\u001b[0m \u001b[39mimport\u001b[39;00m \u001b[39mbrdata\u001b[39;00m\n\u001b[1;32m      <a href='vscode-notebook-cell:/Users/gabriel.guarisa/Projects/brdata/temp.ipynb#W0sZmlsZQ%3D%3D?line=2'>3</a>\u001b[0m crawler \u001b[39m=\u001b[39m brdata\u001b[39m.\u001b[39mXPICrawler()\n\u001b[0;32m----> <a href='vscode-notebook-cell:/Users/gabriel.guarisa/Projects/brdata/temp.ipynb#W0sZmlsZQ%3D%3D?line=3'>4</a>\u001b[0m crawler\u001b[39m.\u001b[39;49mget_analysis(\u001b[39m\"\u001b[39;49m\u001b[39mpetr1\u001b[39;49m\u001b[39m\"\u001b[39;49m)\n",
      "File \u001b[0;32m~/Projects/brdata/brdata/crawlers/xpi.py:67\u001b[0m, in \u001b[0;36mXPICrawler.get_analysis\u001b[0;34m(self, code, to_pandas, enable_cache, **kwargs)\u001b[0m\n\u001b[1;32m     63\u001b[0m     page \u001b[39m=\u001b[39m \u001b[39msuper\u001b[39m()\u001b[39m.\u001b[39mget_page_soup(\n\u001b[1;32m     64\u001b[0m         path\u001b[39m=\u001b[39m\u001b[39mf\u001b[39m\u001b[39m\"\u001b[39m\u001b[39m/acoes/\u001b[39m\u001b[39m{\u001b[39;00mcode\u001b[39m.\u001b[39mlower()\u001b[39m}\u001b[39;00m\u001b[39m\"\u001b[39m, enable_cache\u001b[39m=\u001b[39menable_cache, \u001b[39m*\u001b[39m\u001b[39m*\u001b[39mkwargs\n\u001b[1;32m     65\u001b[0m     )\n\u001b[1;32m     66\u001b[0m \u001b[39mexcept\u001b[39;00m exceptions\u001b[39m.\u001b[39mRequestException \u001b[39mas\u001b[39;00m e:\n\u001b[0;32m---> 67\u001b[0m     \u001b[39mraise\u001b[39;00m \u001b[39mException\u001b[39;00m(\u001b[39mf\u001b[39m\u001b[39m\"\u001b[39m\u001b[39m[XPI] Stock \u001b[39m\u001b[39m{\u001b[39;00mcode\u001b[39m}\u001b[39;00m\u001b[39m not found.\u001b[39m\u001b[39m\"\u001b[39m) \u001b[39mfrom\u001b[39;00m \u001b[39me\u001b[39;00m\n\u001b[1;32m     69\u001b[0m output \u001b[39m=\u001b[39m \u001b[39mself\u001b[39m\u001b[39m.\u001b[39m_analysis_page_to_pandas(page)\n\u001b[1;32m     70\u001b[0m \u001b[39mif\u001b[39;00m output \u001b[39mis\u001b[39;00m \u001b[39mNone\u001b[39;00m:\n",
      "\u001b[0;31mException\u001b[0m: [XPI] Stock petr1 not found."
     ]
    }
   ],
   "source": [
    "import brdata\n",
    "\n",
    "crawler = brdata.XPICrawler()\n",
    "crawler.get_analysis(\"petr1\")"
   ]
  },
  {
   "cell_type": "code",
   "execution_count": null,
   "metadata": {},
   "outputs": [],
   "source": []
  }
 ],
 "metadata": {
  "kernelspec": {
   "display_name": "brasil-data-UugFb3W5-py3.11",
   "language": "python",
   "name": "python3"
  },
  "language_info": {
   "codemirror_mode": {
    "name": "ipython",
    "version": 3
   },
   "file_extension": ".py",
   "mimetype": "text/x-python",
   "name": "python",
   "nbconvert_exporter": "python",
   "pygments_lexer": "ipython3",
   "version": "3.11.6"
  }
 },
 "nbformat": 4,
 "nbformat_minor": 2
}
