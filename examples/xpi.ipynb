{
 "cells": [
  {
   "cell_type": "code",
   "execution_count": 1,
   "metadata": {},
   "outputs": [],
   "source": [
    "from brdata import xpi"
   ]
  },
  {
   "cell_type": "code",
   "execution_count": 3,
   "metadata": {},
   "outputs": [
    {
     "data": {
      "text/plain": [
       "Preço Atual         15.74\n",
       "Preço Alvo           33.0\n",
       "Potencial          109.66\n",
       "Risco (0 - 100)      42.0\n",
       "Recomendação       compra\n",
       "dtype: object"
      ]
     },
     "execution_count": 3,
     "metadata": {},
     "output_type": "execute_result"
    }
   ],
   "source": [
    "xpi.analise(\"cyre3\")"
   ]
  }
 ],
 "metadata": {
  "interpreter": {
   "hash": "78e60c9d20883f0113323a98b53cd573922492a65f1ab72d38e7d609504a81ea"
  },
  "kernelspec": {
   "display_name": "Python 3.9.10 ('brdata-RG9g34qm-py3.9')",
   "language": "python",
   "name": "python3"
  },
  "language_info": {
   "codemirror_mode": {
    "name": "ipython",
    "version": 3
   },
   "file_extension": ".py",
   "mimetype": "text/x-python",
   "name": "python",
   "nbconvert_exporter": "python",
   "pygments_lexer": "ipython3",
   "version": "3.9.10"
  },
  "orig_nbformat": 4
 },
 "nbformat": 4,
 "nbformat_minor": 2
}
